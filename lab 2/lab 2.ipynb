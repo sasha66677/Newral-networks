{
 "cells": [
  {
   "cell_type": "markdown",
   "source": [
    "## 0. Import libraries"
   ],
   "metadata": {
    "collapsed": false
   }
  },
  {
   "cell_type": "code",
   "execution_count": 1,
   "outputs": [],
   "source": [
    "import pandas as pd\n",
    "import matplotlib.pyplot as plt\n",
    "import seaborn as sns\n",
    "\n",
    "from sklearn.model_selection import train_test_split\n",
    "from sklearn.metrics import confusion_matrix, classification_report\n",
    "from sklearn.feature_extraction.text import CountVectorizer\n",
    "\n",
    "from sklearn.neighbors import KNeighborsClassifier\n",
    "\n",
    "\n",
    "from keras.models import Sequential\n",
    "from keras.layers import LSTM, Dense, Embedding\n",
    "from keras.preprocessing.text import Tokenizer\n",
    "from keras.utils import pad_sequences"
   ],
   "metadata": {
    "collapsed": false
   }
  },
  {
   "cell_type": "markdown",
   "source": [
    "## 0.1 Read data"
   ],
   "metadata": {
    "collapsed": false
   }
  },
  {
   "cell_type": "code",
   "execution_count": 2,
   "outputs": [],
   "source": [
    "listOfNames = ['Youtube01-Psy.csv', 'Youtube02-KatyPerry.csv', 'Youtube03-LMFAO.csv', 'Youtube04-Eminem.csv', 'Youtube05-Shakira.csv']"
   ],
   "metadata": {
    "collapsed": false
   }
  },
  {
   "cell_type": "code",
   "execution_count": 3,
   "outputs": [
    {
     "name": "stdout",
     "output_type": "stream",
     "text": [
      "========================================\n",
      "Youtube01-Psy.csv\n",
      "                                    COMMENT_ID            AUTHOR  \\\n",
      "0  LZQPQhLyRh80UYxNuaDWhIGQYNQ96IuCg-AYWqNPjpU         Julius NM   \n",
      "1  LZQPQhLyRh_C2cTtd9MvFRJedxydaVW-2sNg5Diuo4A       adam riyati   \n",
      "2  LZQPQhLyRh9MSZYnf8djyk0gEF9BHDPYrrK-qCczIY8  Evgeny Murashkin   \n",
      "\n",
      "                  DATE                                            CONTENT  \\\n",
      "0  2013-11-07T06:20:48  Huh, anyway check out this you[tube] channel: ...   \n",
      "1  2013-11-07T12:37:15  Hey guys check out my new channel and our firs...   \n",
      "2  2013-11-08T17:34:21             just for test I have to say murdev.com   \n",
      "\n",
      "   CLASS  \n",
      "0      1  \n",
      "1      1  \n",
      "2      1  \n",
      "========================================\n",
      "Youtube02-KatyPerry.csv\n",
      "                              COMMENT_ID       AUTHOR                 DATE  \\\n",
      "0      z12pgdhovmrktzm3i23es5d5junftft3f  lekanaVEVO1  2014-07-22T15:27:50   \n",
      "1    z13yx345uxepetggz04ci5rjcxeohzlrtf4     Pyunghee  2014-07-27T01:57:16   \n",
      "2  z12lsjvi3wa5x1vwh04cibeaqnzrevxajw00k   Erica Ross  2014-07-27T02:51:43   \n",
      "\n",
      "                                             CONTENT  CLASS  \n",
      "0  i love this so much. AND also I Generate Free ...      1  \n",
      "1  http://www.billboard.com/articles/columns/pop-...      1  \n",
      "2  Hey guys! Please join me in my fight to help a...      1  \n",
      "========================================\n",
      "Youtube03-LMFAO.csv\n",
      "                              COMMENT_ID        AUTHOR  \\\n",
      "0  z13uwn2heqndtr5g304ccv5j5kqqzxjadmc0k  Corey Wilson   \n",
      "1  z124jvczaz3dxhnbc04cffk43oiugj25yzo0k   Epic Gaming   \n",
      "2      z13tczjy5xj0vjmu5231unho1ofey5zdk     LaS Music   \n",
      "\n",
      "                         DATE  \\\n",
      "0  2015-05-28T21:39:52.376000   \n",
      "1  2015-05-28T20:07:20.610000   \n",
      "2  2015-05-28T19:23:35.355000   \n",
      "\n",
      "                                             CONTENT  CLASS  \n",
      "0  <a href=\"http://www.youtube.com/watch?v=KQ6zr6...      0  \n",
      "1                                   wierd but funny﻿      0  \n",
      "2  Hey guys, I&#39;m a human.<br /><br /><br />Bu...      1  \n",
      "========================================\n",
      "Youtube04-Eminem.csv\n",
      "                            COMMENT_ID        AUTHOR  \\\n",
      "0    z12rwfnyyrbsefonb232i5ehdxzkjzjs2   Lisa Wellas   \n",
      "1  z130wpnwwnyuetxcn23xf5k5ynmkdpjrj04  jason graham   \n",
      "2    z13vsfqirtavjvu0t22ezrgzyorwxhpf3    Ajkal Khan   \n",
      "\n",
      "                         DATE  \\\n",
      "0                         NaN   \n",
      "1  2015-05-29T02:26:10.652000   \n",
      "2                         NaN   \n",
      "\n",
      "                                             CONTENT  CLASS  \n",
      "0          +447935454150 lovely girl talk to me xxx﻿      1  \n",
      "1    I always end up coming back to this song<br />﻿      0  \n",
      "2  my sister just received over 6,500 new <a rel=...      1  \n",
      "========================================\n",
      "Youtube05-Shakira.csv\n",
      "                              COMMENT_ID                              AUTHOR  \\\n",
      "0    z13lgffb5w3ddx1ul22qy1wxspy5cpkz504                          dharma pal   \n",
      "1      z123dbgb0mqjfxbtz22ucjc5jvzcv3ykj                       Tiza Arellano   \n",
      "2  z12quxxp2vutflkxv04cihggzt2azl34pms0k  Prìñçeśś Âliś Łøvê Dømíñø Mâđiś™ ﻿   \n",
      "\n",
      "                         DATE        CONTENT  CLASS  \n",
      "0  2015-05-29T02:30:18.971000     Nice song﻿      0  \n",
      "1  2015-05-29T00:14:48.748000  I love song ﻿      0  \n",
      "2  2015-05-28T21:00:08.607000  I love song ﻿      0  \n"
     ]
    }
   ],
   "source": [
    "data = [pd.read_csv(file) for file in listOfNames]\n",
    "\n",
    "for index, file in enumerate(listOfNames):\n",
    "    print('='*40)\n",
    "    print(file)\n",
    "    print(data[index].head(3))"
   ],
   "metadata": {
    "collapsed": false
   }
  },
  {
   "cell_type": "code",
   "execution_count": 4,
   "outputs": [
    {
     "name": "stdout",
     "output_type": "stream",
     "text": [
      "========================================\n",
      "<class 'pandas.core.frame.DataFrame'>\n",
      "Int64Index: 350 entries, 0 to 349\n",
      "Data columns (total 4 columns):\n",
      " #   Column   Non-Null Count  Dtype \n",
      "---  ------   --------------  ----- \n",
      " 0   AUTHOR   350 non-null    object\n",
      " 1   DATE     350 non-null    object\n",
      " 2   CONTENT  350 non-null    object\n",
      " 3   CLASS    350 non-null    int64 \n",
      "dtypes: int64(1), object(3)\n",
      "memory usage: 13.7+ KB\n",
      "========================================\n",
      "<class 'pandas.core.frame.DataFrame'>\n",
      "Int64Index: 350 entries, 0 to 349\n",
      "Data columns (total 4 columns):\n",
      " #   Column   Non-Null Count  Dtype \n",
      "---  ------   --------------  ----- \n",
      " 0   AUTHOR   350 non-null    object\n",
      " 1   DATE     350 non-null    object\n",
      " 2   CONTENT  350 non-null    object\n",
      " 3   CLASS    350 non-null    int64 \n",
      "dtypes: int64(1), object(3)\n",
      "memory usage: 13.7+ KB\n",
      "========================================\n",
      "<class 'pandas.core.frame.DataFrame'>\n",
      "Int64Index: 438 entries, 0 to 437\n",
      "Data columns (total 4 columns):\n",
      " #   Column   Non-Null Count  Dtype \n",
      "---  ------   --------------  ----- \n",
      " 0   AUTHOR   438 non-null    object\n",
      " 1   DATE     438 non-null    object\n",
      " 2   CONTENT  438 non-null    object\n",
      " 3   CLASS    438 non-null    int64 \n",
      "dtypes: int64(1), object(3)\n",
      "memory usage: 17.1+ KB\n",
      "========================================\n",
      "<class 'pandas.core.frame.DataFrame'>\n",
      "Int64Index: 433 entries, 0 to 447\n",
      "Data columns (total 4 columns):\n",
      " #   Column   Non-Null Count  Dtype \n",
      "---  ------   --------------  ----- \n",
      " 0   AUTHOR   433 non-null    object\n",
      " 1   DATE     203 non-null    object\n",
      " 2   CONTENT  433 non-null    object\n",
      " 3   CLASS    433 non-null    int64 \n",
      "dtypes: int64(1), object(3)\n",
      "memory usage: 16.9+ KB\n",
      "========================================\n",
      "<class 'pandas.core.frame.DataFrame'>\n",
      "Int64Index: 369 entries, 0 to 369\n",
      "Data columns (total 4 columns):\n",
      " #   Column   Non-Null Count  Dtype \n",
      "---  ------   --------------  ----- \n",
      " 0   AUTHOR   369 non-null    object\n",
      " 1   DATE     369 non-null    object\n",
      " 2   CONTENT  369 non-null    object\n",
      " 3   CLASS    369 non-null    int64 \n",
      "dtypes: int64(1), object(3)\n",
      "memory usage: 14.4+ KB\n"
     ]
    }
   ],
   "source": [
    "for i in data:\n",
    "    i.drop('COMMENT_ID', axis=1, inplace=True)\n",
    "    i.drop_duplicates(inplace=True)\n",
    "    print('='*40)\n",
    "    i.info()"
   ],
   "metadata": {
    "collapsed": false
   }
  },
  {
   "cell_type": "code",
   "execution_count": 5,
   "outputs": [
    {
     "name": "stdout",
     "output_type": "stream",
     "text": [
      "Youtube01-Psy.csv\n"
     ]
    },
    {
     "data": {
      "text/plain": "<Figure size 640x480 with 1 Axes>",
      "image/png": "[encoded data removed]"
     },
     "metadata": {},
     "output_type": "display_data"
    },
    {
     "name": "stdout",
     "output_type": "stream",
     "text": [
      "Youtube02-KatyPerry.csv\n"
     ]
    },
    {
     "data": {
      "text/plain": "<Figure size 640x480 with 1 Axes>",
      "image/png": "[encoded data removed]"
     },
     "metadata": {},
     "output_type": "display_data"
    },
    {
     "name": "stdout",
     "output_type": "stream",
     "text": [
      "Youtube03-LMFAO.csv\n"
     ]
    },
    {
     "data": {
      "text/plain": "<Figure size 640x480 with 1 Axes>",
      "image/png": "[encoded data removed]"
     },
     "metadata": {},
     "output_type": "display_data"
    },
    {
     "name": "stdout",
     "output_type": "stream",
     "text": [
      "Youtube04-Eminem.csv\n"
     ]
    },
    {
     "data": {
      "text/plain": "<Figure size 640x480 with 1 Axes>",
      "image/png": "[encoded data removed]"
     },
     "metadata": {},
     "output_type": "display_data"
    },
    {
     "name": "stdout",
     "output_type": "stream",
     "text": [
      "Youtube05-Shakira.csv\n"
     ]
    },
    {
     "data": {
      "text/plain": "<Figure size 640x480 with 1 Axes>",
      "image/png": "[encoded data removed]"
     },
     "metadata": {},
     "output_type": "display_data"
    }
   ],
   "source": [
    "for index, df in enumerate(data):\n",
    "    print(listOfNames[index])\n",
    "    sns.countplot(x=\"CLASS\", data=df)\n",
    "    plt.xlabel('Comment Type')\n",
    "    plt.ylabel('Count')\n",
    "    plt.xticks([0, 1], ['Not Spam', 'Spam'])\n",
    "    plt.show()"
   ],
   "metadata": {
    "collapsed": false
   }
  },
  {
   "cell_type": "code",
   "execution_count": 6,
   "outputs": [
    {
     "name": "stdout",
     "output_type": "stream",
     "text": [
      "========================================\n",
      "Youtube01-Psy.csv\n",
      "AUTHOR     0\n",
      "DATE       0\n",
      "CONTENT    0\n",
      "CLASS      0\n",
      "dtype: int64\n",
      "========================================\n",
      "Youtube02-KatyPerry.csv\n",
      "AUTHOR     0\n",
      "DATE       0\n",
      "CONTENT    0\n",
      "CLASS      0\n",
      "dtype: int64\n",
      "========================================\n",
      "Youtube03-LMFAO.csv\n",
      "AUTHOR     0\n",
      "DATE       0\n",
      "CONTENT    0\n",
      "CLASS      0\n",
      "dtype: int64\n",
      "========================================\n",
      "Youtube04-Eminem.csv\n",
      "AUTHOR       0\n",
      "DATE       230\n",
      "CONTENT      0\n",
      "CLASS        0\n",
      "dtype: int64\n",
      "========================================\n",
      "Youtube05-Shakira.csv\n",
      "AUTHOR     0\n",
      "DATE       0\n",
      "CONTENT    0\n",
      "CLASS      0\n",
      "dtype: int64\n"
     ]
    }
   ],
   "source": [
    "for index, df in enumerate(data):\n",
    "    print('='*40)\n",
    "    print(listOfNames[index])\n",
    "    print(df.isnull().sum())"
   ],
   "metadata": {
    "collapsed": false
   }
  },
  {
   "cell_type": "markdown",
   "source": [
    "## 1.Data preparation"
   ],
   "metadata": {
    "collapsed": false
   }
  },
  {
   "cell_type": "code",
   "execution_count": 7,
   "outputs": [
    {
     "name": "stdout",
     "output_type": "stream",
     "text": [
      "<class 'pandas.core.frame.DataFrame'>\n",
      "RangeIndex: 1940 entries, 0 to 1939\n",
      "Data columns (total 4 columns):\n",
      " #   Column   Non-Null Count  Dtype \n",
      "---  ------   --------------  ----- \n",
      " 0   AUTHOR   1940 non-null   object\n",
      " 1   DATE     1710 non-null   object\n",
      " 2   CONTENT  1940 non-null   object\n",
      " 3   CLASS    1940 non-null   int64 \n",
      "dtypes: int64(1), object(3)\n",
      "memory usage: 60.8+ KB\n"
     ]
    },
    {
     "data": {
      "text/plain": "<Figure size 640x480 with 1 Axes>",
      "image/png": "[encoded data removed]"
     },
     "metadata": {},
     "output_type": "display_data"
    }
   ],
   "source": [
    "df = pd.concat(data, ignore_index=True)\n",
    "df.info()\n",
    "\n",
    "sns.countplot(x=\"CLASS\", data = df)\n",
    "plt.xlabel('Comment Type')\n",
    "plt.ylabel('Count')\n",
    "plt.xticks([0, 1], ['Not Spam', 'Spam'])\n",
    "plt.show()"
   ],
   "metadata": {
    "collapsed": false
   }
  },
  {
   "cell_type": "code",
   "execution_count": 8,
   "outputs": [
    {
     "data": {
      "text/plain": "              AUTHOR    DATE                            CONTENT        CLASS\ncount           1940  1940.0                               1940  1940.000000\nunique          1792  1710.0                               1760          NaN\ntop     Louis Bryant     0.0  Check out this video on YouTube:﻿          NaN\nfreq               7   230.0                                 96          NaN\nmean             NaN     NaN                                NaN     0.510309\nstd              NaN     NaN                                NaN     0.500023\nmin              NaN     NaN                                NaN     0.000000\n25%              NaN     NaN                                NaN     0.000000\n50%              NaN     NaN                                NaN     1.000000\n75%              NaN     NaN                                NaN     1.000000\nmax              NaN     NaN                                NaN     1.000000",
      "text/html": "<div>\n<style scoped>\n    .dataframe tbody tr th:only-of-type {\n        vertical-align: middle;\n    }\n\n    .dataframe tbody tr th {\n        vertical-align: top;\n    }\n\n    .dataframe thead th {\n        text-align: right;\n    }\n</style>\n<table border=\"1\" class=\"dataframe\">\n  <thead>\n    <tr style=\"text-align: right;\">\n      <th></th>\n      <th>AUTHOR</th>\n      <th>DATE</th>\n      <th>CONTENT</th>\n      <th>CLASS</th>\n    </tr>\n  </thead>\n  <tbody>\n    <tr>\n      <th>count</th>\n      <td>1940</td>\n      <td>1940.0</td>\n      <td>1940</td>\n      <td>1940.000000</td>\n    </tr>\n    <tr>\n      <th>unique</th>\n      <td>1792</td>\n      <td>1710.0</td>\n      <td>1760</td>\n      <td>NaN</td>\n    </tr>\n    <tr>\n      <th>top</th>\n      <td>Louis Bryant</td>\n      <td>0.0</td>\n      <td>Check out this video on YouTube:﻿</td>\n      <td>NaN</td>\n    </tr>\n    <tr>\n      <th>freq</th>\n      <td>7</td>\n      <td>230.0</td>\n      <td>96</td>\n      <td>NaN</td>\n    </tr>\n    <tr>\n      <th>mean</th>\n      <td>NaN</td>\n      <td>NaN</td>\n      <td>NaN</td>\n      <td>0.510309</td>\n    </tr>\n    <tr>\n      <th>std</th>\n      <td>NaN</td>\n      <td>NaN</td>\n      <td>NaN</td>\n      <td>0.500023</td>\n    </tr>\n    <tr>\n      <th>min</th>\n      <td>NaN</td>\n      <td>NaN</td>\n      <td>NaN</td>\n      <td>0.000000</td>\n    </tr>\n    <tr>\n      <th>25%</th>\n      <td>NaN</td>\n      <td>NaN</td>\n      <td>NaN</td>\n      <td>0.000000</td>\n    </tr>\n    <tr>\n      <th>50%</th>\n      <td>NaN</td>\n      <td>NaN</td>\n      <td>NaN</td>\n      <td>1.000000</td>\n    </tr>\n    <tr>\n      <th>75%</th>\n      <td>NaN</td>\n      <td>NaN</td>\n      <td>NaN</td>\n      <td>1.000000</td>\n    </tr>\n    <tr>\n      <th>max</th>\n      <td>NaN</td>\n      <td>NaN</td>\n      <td>NaN</td>\n      <td>1.000000</td>\n    </tr>\n  </tbody>\n</table>\n</div>"
     },
     "execution_count": 8,
     "metadata": {},
     "output_type": "execute_result"
    }
   ],
   "source": [
    "df = df.fillna(0)\n",
    "df.describe(include='all')"
   ],
   "metadata": {
    "collapsed": false
   }
  },
  {
   "cell_type": "markdown",
   "source": [
    "## 2. Model"
   ],
   "metadata": {
    "collapsed": false
   }
  },
  {
   "cell_type": "code",
   "execution_count": 9,
   "outputs": [
    {
     "name": "stdout",
     "output_type": "stream",
     "text": [
      "(1552,)\n",
      "(388,)\n",
      "(1552,)\n",
      "(388,)\n"
     ]
    }
   ],
   "source": [
    "X = df.CONTENT\n",
    "Y = df.CLASS\n",
    "X_train, X_test, Y_train, Y_test = train_test_split(X, Y, train_size=0.8, test_size=0.2)\n",
    "print(X_train.shape)\n",
    "print(X_test.shape)\n",
    "print(Y_train.shape)\n",
    "print(Y_test.shape)"
   ],
   "metadata": {
    "collapsed": false
   }
  },
  {
   "cell_type": "code",
   "execution_count": 10,
   "outputs": [
    {
     "data": {
      "text/plain": "CountVectorizer(stop_words='english')",
      "text/html": "<style>#sk-container-id-1 {color: black;background-color: white;}#sk-container-id-1 pre{padding: 0;}#sk-container-id-1 div.sk-toggleable {background-color: white;}#sk-container-id-1 label.sk-toggleable__label {cursor: pointer;display: block;width: 100%;margin-bottom: 0;padding: 0.3em;box-sizing: border-box;text-align: center;}#sk-container-id-1 label.sk-toggleable__label-arrow:before {content: \"▸\";float: left;margin-right: 0.25em;color: #696969;}#sk-container-id-1 label.sk-toggleable__label-arrow:hover:before {color: black;}#sk-container-id-1 div.sk-estimator:hover label.sk-toggleable__label-arrow:before {color: black;}#sk-container-id-1 div.sk-toggleable__content {max-height: 0;max-width: 0;overflow: hidden;text-align: left;background-color: #f0f8ff;}#sk-container-id-1 div.sk-toggleable__content pre {margin: 0.2em;color: black;border-radius: 0.25em;background-color: #f0f8ff;}#sk-container-id-1 input.sk-toggleable__control:checked~div.sk-toggleable__content {max-height: 200px;max-width: 100%;overflow: auto;}#sk-container-id-1 input.sk-toggleable__control:checked~label.sk-toggleable__label-arrow:before {content: \"▾\";}#sk-container-id-1 div.sk-estimator input.sk-toggleable__control:checked~label.sk-toggleable__label {background-color: #d4ebff;}#sk-container-id-1 div.sk-label input.sk-toggleable__control:checked~label.sk-toggleable__label {background-color: #d4ebff;}#sk-container-id-1 input.sk-hidden--visually {border: 0;clip: rect(1px 1px 1px 1px);clip: rect(1px, 1px, 1px, 1px);height: 1px;margin: -1px;overflow: hidden;padding: 0;position: absolute;width: 1px;}#sk-container-id-1 div.sk-estimator {font-family: monospace;background-color: #f0f8ff;border: 1px dotted black;border-radius: 0.25em;box-sizing: border-box;margin-bottom: 0.5em;}#sk-container-id-1 div.sk-estimator:hover {background-color: #d4ebff;}#sk-container-id-1 div.sk-parallel-item::after {content: \"\";width: 100%;border-bottom: 1px solid gray;flex-grow: 1;}#sk-container-id-1 div.sk-label:hover label.sk-toggleable__label {background-color: #d4ebff;}#sk-container-id-1 div.sk-serial::before {content: \"\";position: absolute;border-left: 1px solid gray;box-sizing: border-box;top: 0;bottom: 0;left: 50%;z-index: 0;}#sk-container-id-1 div.sk-serial {display: flex;flex-direction: column;align-items: center;background-color: white;padding-right: 0.2em;padding-left: 0.2em;position: relative;}#sk-container-id-1 div.sk-item {position: relative;z-index: 1;}#sk-container-id-1 div.sk-parallel {display: flex;align-items: stretch;justify-content: center;background-color: white;position: relative;}#sk-container-id-1 div.sk-item::before, #sk-container-id-1 div.sk-parallel-item::before {content: \"\";position: absolute;border-left: 1px solid gray;box-sizing: border-box;top: 0;bottom: 0;left: 50%;z-index: -1;}#sk-container-id-1 div.sk-parallel-item {display: flex;flex-direction: column;z-index: 1;position: relative;background-color: white;}#sk-container-id-1 div.sk-parallel-item:first-child::after {align-self: flex-end;width: 50%;}#sk-container-id-1 div.sk-parallel-item:last-child::after {align-self: flex-start;width: 50%;}#sk-container-id-1 div.sk-parallel-item:only-child::after {width: 0;}#sk-container-id-1 div.sk-dashed-wrapped {border: 1px dashed gray;margin: 0 0.4em 0.5em 0.4em;box-sizing: border-box;padding-bottom: 0.4em;background-color: white;}#sk-container-id-1 div.sk-label label {font-family: monospace;font-weight: bold;display: inline-block;line-height: 1.2em;}#sk-container-id-1 div.sk-label-container {text-align: center;}#sk-container-id-1 div.sk-container {/* jupyter's `normalize.less` sets `[hidden] { display: none; }` but bootstrap.min.css set `[hidden] { display: none !important; }` so we also need the `!important` here to be able to override the default hidden behavior on the sphinx rendered scikit-learn.org. See: https://github.com/scikit-learn/scikit-learn/issues/21755 */display: inline-block !important;position: relative;}#sk-container-id-1 div.sk-text-repr-fallback {display: none;}</style><div id=\"sk-container-id-1\" class=\"sk-top-container\"><div class=\"sk-text-repr-fallback\"><pre>CountVectorizer(stop_words=&#x27;english&#x27;)</pre><b>In a Jupyter environment, please rerun this cell to show the HTML representation or trust the notebook. <br />On GitHub, the HTML representation is unable to render, please try loading this page with nbviewer.org.</b></div><div class=\"sk-container\" hidden><div class=\"sk-item\"><div class=\"sk-estimator sk-toggleable\"><input class=\"sk-toggleable__control sk-hidden--visually\" id=\"sk-estimator-id-1\" type=\"checkbox\" checked><label for=\"sk-estimator-id-1\" class=\"sk-toggleable__label sk-toggleable__label-arrow\">CountVectorizer</label><div class=\"sk-toggleable__content\"><pre>CountVectorizer(stop_words=&#x27;english&#x27;)</pre></div></div></div></div></div>"
     },
     "execution_count": 10,
     "metadata": {},
     "output_type": "execute_result"
    }
   ],
   "source": [
    "count_vec = CountVectorizer(stop_words=\"english\",lowercase=True, analyzer='word')\n",
    "count_vec.fit(X_train)"
   ],
   "metadata": {
    "collapsed": false
   }
  },
  {
   "cell_type": "code",
   "execution_count": 11,
   "outputs": [
    {
     "data": {
      "text/plain": "array(['00', '000', '002', ..., 'ｔｈｉｓ', 'ｕｓｒ', 'ｗｗｗ'], dtype=object)"
     },
     "execution_count": 11,
     "metadata": {},
     "output_type": "execute_result"
    }
   ],
   "source": [
    "count_vec.get_feature_names_out() #return unique tokens"
   ],
   "metadata": {
    "collapsed": false
   }
  },
  {
   "cell_type": "code",
   "execution_count": 12,
   "outputs": [
    {
     "data": {
      "text/plain": "array([[0, 0, 0, ..., 0, 0, 0],\n       [0, 0, 0, ..., 0, 0, 0],\n       [0, 0, 0, ..., 0, 0, 0],\n       ...,\n       [0, 0, 0, ..., 0, 0, 0],\n       [0, 1, 0, ..., 0, 0, 0],\n       [0, 0, 0, ..., 0, 0, 0]], dtype=int64)"
     },
     "execution_count": 12,
     "metadata": {},
     "output_type": "execute_result"
    }
   ],
   "source": [
    "X_train_dtm = count_vec.transform(X_train)\n",
    "X_train_dtm.toarray() # row is a sample of text\n",
    "                      # column is a word\n",
    "                      # value is a count of repetitions"
   ],
   "metadata": {
    "collapsed": false
   }
  },
  {
   "cell_type": "code",
   "execution_count": 13,
   "outputs": [
    {
     "data": {
      "text/plain": "array([[0, 0, 0, ..., 0, 0, 0],\n       [0, 0, 0, ..., 0, 0, 0],\n       [0, 0, 0, ..., 0, 0, 0],\n       ...,\n       [0, 0, 0, ..., 0, 0, 0],\n       [0, 0, 0, ..., 0, 0, 0],\n       [0, 0, 0, ..., 0, 0, 0]], dtype=int64)"
     },
     "execution_count": 13,
     "metadata": {},
     "output_type": "execute_result"
    }
   ],
   "source": [
    "X_test_dtm = count_vec.transform(X_test)\n",
    "X_test_dtm.toarray()"
   ],
   "metadata": {
    "collapsed": false
   }
  },
  {
   "cell_type": "markdown",
   "source": [
    "## 3.1 k-nearest neighbors"
   ],
   "metadata": {
    "collapsed": false
   }
  },
  {
   "cell_type": "code",
   "execution_count": 14,
   "outputs": [
    {
     "name": "stdout",
     "output_type": "stream",
     "text": [
      "[[179   4]\n",
      " [ 65 140]]\n",
      "              precision    recall  f1-score   support\n",
      "\n",
      "           0       0.73      0.98      0.84       183\n",
      "           1       0.97      0.68      0.80       205\n",
      "\n",
      "    accuracy                           0.82       388\n",
      "   macro avg       0.85      0.83      0.82       388\n",
      "weighted avg       0.86      0.82      0.82       388\n",
      "\n"
     ]
    }
   ],
   "source": [
    "knn_model = KNeighborsClassifier(n_neighbors=5)\n",
    "knn_model.fit(X_train_dtm, Y_train)\n",
    "predict = knn_model.predict(X_test_dtm)\n",
    "print(confusion_matrix(Y_test, predict))\n",
    "print(classification_report(Y_test, predict))\n"
   ],
   "metadata": {
    "collapsed": false
   }
  },
  {
   "cell_type": "markdown",
   "source": [
    "## 3.2 LSTM"
   ],
   "metadata": {
    "collapsed": false
   }
  },
  {
   "cell_type": "code",
   "execution_count": 15,
   "outputs": [],
   "source": [
    "# Converting text data to sequences of numbers\n",
    "tokenizer = Tokenizer()\n",
    "tokenizer.fit_on_texts(X_train) # build a dictionary of all unique words (tokens)\n",
    "X_train_seq = tokenizer.texts_to_sequences(X_train)\n",
    "X_test_seq = tokenizer.texts_to_sequences(X_test)"
   ],
   "metadata": {
    "collapsed": false
   }
  },
  {
   "cell_type": "code",
   "execution_count": 16,
   "outputs": [],
   "source": [
    "# Padding sequences with zeros for the same length\n",
    "max_sequence_length = max(max(len(seq) for seq in X_train_seq),\n",
    "                          max(len(seq) for seq in X_test_seq))\n",
    "X_train_padded = pad_sequences(X_train_seq, maxlen=max_sequence_length)\n",
    "X_test_padded = pad_sequences(X_test_seq, maxlen=max_sequence_length)"
   ],
   "metadata": {
    "collapsed": false
   }
  },
  {
   "cell_type": "code",
   "execution_count": 17,
   "outputs": [
    {
     "name": "stdout",
     "output_type": "stream",
     "text": [
      "Epoch 1/10\n",
      "49/49 [==============================] - 8s 98ms/step - loss: 0.5704 - accuracy: 0.6881\n",
      "Epoch 2/10\n",
      "49/49 [==============================] - 5s 96ms/step - loss: 0.1631 - accuracy: 0.9433\n",
      "Epoch 3/10\n",
      "49/49 [==============================] - 5s 98ms/step - loss: 0.0699 - accuracy: 0.9762\n",
      "Epoch 4/10\n",
      "49/49 [==============================] - 5s 103ms/step - loss: 0.0360 - accuracy: 0.9903\n",
      "Epoch 5/10\n",
      "49/49 [==============================] - 5s 94ms/step - loss: 0.0227 - accuracy: 0.9968\n",
      "Epoch 6/10\n",
      "49/49 [==============================] - 5s 99ms/step - loss: 0.0113 - accuracy: 0.9981\n",
      "Epoch 7/10\n",
      "49/49 [==============================] - 4s 86ms/step - loss: 0.0066 - accuracy: 0.9987\n",
      "Epoch 8/10\n",
      "49/49 [==============================] - 5s 93ms/step - loss: 0.0027 - accuracy: 0.9994\n",
      "Epoch 9/10\n",
      "49/49 [==============================] - 4s 81ms/step - loss: 0.0016 - accuracy: 1.0000\n",
      "Epoch 10/10\n",
      "49/49 [==============================] - 4s 82ms/step - loss: 0.0014 - accuracy: 0.9994\n"
     ]
    },
    {
     "data": {
      "text/plain": "<keras.callbacks.History at 0x1c36b8d7a00>"
     },
     "execution_count": 17,
     "metadata": {},
     "output_type": "execute_result"
    }
   ],
   "source": [
    "# Creating an LSTM model\n",
    "lstm_model = Sequential()\n",
    "\n",
    "# Adding an Embedding layer to convert words into vectors of a specified dimension\n",
    "lstm_model.add(Embedding(input_dim=len(tokenizer.word_index) + 1, output_dim=100, input_length=max_sequence_length))\n",
    "\n",
    "# Adding an LSTM layer with 64 hidden units\n",
    "lstm_model.add(LSTM(units=64))\n",
    "\n",
    "# Adding a dense layer with one output neuron and sigmoid activation\n",
    "lstm_model.add(Dense(units=1, activation='sigmoid'))\n",
    "\n",
    "# Compiling the model with binary cross-entropy loss, Adam optimizer, and accuracy metric\n",
    "lstm_model.compile(loss='binary_crossentropy', optimizer='adam', metrics=['accuracy'])\n",
    "\n",
    "# Training the model on the training data with the specified number of epochs and batch size of 32\n",
    "lstm_model.fit(X_train_padded, Y_train, epochs=10, batch_size=32)\n"
   ],
   "metadata": {
    "collapsed": false
   }
  },
  {
   "cell_type": "code",
   "execution_count": 18,
   "outputs": [
    {
     "name": "stdout",
     "output_type": "stream",
     "text": [
      "13/13 [==============================] - 1s 25ms/step\n",
      "[[177   6]\n",
      " [ 12 193]]\n",
      "              precision    recall  f1-score   support\n",
      "\n",
      "           0       0.94      0.97      0.95       183\n",
      "           1       0.97      0.94      0.96       205\n",
      "\n",
      "    accuracy                           0.95       388\n",
      "   macro avg       0.95      0.95      0.95       388\n",
      "weighted avg       0.95      0.95      0.95       388\n",
      "\n"
     ]
    }
   ],
   "source": [
    "predictions = lstm_model.predict(X_test_padded)\n",
    "\n",
    "# Convert predictions to binary format (0 or 1)\n",
    "predictions_binary = (predictions > 0.5).astype(int)\n",
    "\n",
    "print(confusion_matrix(Y_test, predictions_binary))\n",
    "print(classification_report(Y_test, predictions_binary))"
   ],
   "metadata": {
    "collapsed": false
   }
  },
  {
   "cell_type": "code",
   "execution_count": 18,
   "outputs": [],
   "source": [],
   "metadata": {
    "collapsed": false
   }
  }
 ],
 "metadata": {
  "kernelspec": {
   "display_name": "Python 3",
   "language": "python",
   "name": "python3"
  },
  "language_info": {
   "codemirror_mode": {
    "name": "ipython",
    "version": 2
   },
   "file_extension": ".py",
   "mimetype": "text/x-python",
   "name": "python",
   "nbconvert_exporter": "python",
   "pygments_lexer": "ipython2",
   "version": "2.7.6"
  }
 },
 "nbformat": 4,
 "nbformat_minor": 0
}
